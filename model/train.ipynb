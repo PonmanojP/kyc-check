{
 "cells": [
  {
   "cell_type": "code",
   "execution_count": 2,
   "id": "a81823c4-6951-4503-b7ec-d8f7af8a67c7",
   "metadata": {},
   "outputs": [
    {
     "name": "stdout",
     "output_type": "stream",
     "text": [
      "Accuracy: 0.99\n"
     ]
    },
    {
     "data": {
      "text/plain": [
       "['fraud_model2.pkl']"
      ]
     },
     "execution_count": 2,
     "metadata": {},
     "output_type": "execute_result"
    }
   ],
   "source": [
    "# fraud_detection_model.ipynb\n",
    "\n",
    "import pandas as pd\n",
    "import numpy as np\n",
    "from sklearn.linear_model import LinearRegression\n",
    "from sklearn.model_selection import train_test_split\n",
    "from sklearn.metrics import accuracy_score\n",
    "import joblib\n",
    "\n",
    "# Step 1: Load the dataset\n",
    "df = pd.read_csv('fraudulent_check.csv')\n",
    "\n",
    "# Step 2: Apply the business rule\n",
    "df['fraudulent_or_not'] = df['avg_value'].apply(lambda x: 1 if x > 26500 else 0)\n",
    "\n",
    "# Step 3: Define features and target\n",
    "X = df[['avg_value']]\n",
    "y = df['fraudulent_or_not']\n",
    "\n",
    "# Step 4: Split into train-test sets\n",
    "X_train, X_test, y_train, y_test = train_test_split(X, y, test_size=0.2, random_state=42)\n",
    "\n",
    "# Step 5: Train a linear regression model\n",
    "model = LinearRegression()\n",
    "model.fit(X_train, y_train)\n",
    "\n",
    "# Step 6: Predict and threshold at 0.5 for classification\n",
    "y_pred_proba = model.predict(X_test)\n",
    "y_pred = [1 if p >= 0.5 else 0 for p in y_pred_proba]\n",
    "\n",
    "# Step 7: Evaluate\n",
    "print(\"Accuracy:\", accuracy_score(y_test, y_pred))\n",
    "\n",
    "# Step 8: Save the model\n",
    "joblib.dump(model, 'fraud_model2.pkl')"
   ]
  },
  {
   "cell_type": "code",
   "execution_count": null,
   "id": "f0692561-c1aa-4869-b170-356554c769cd",
   "metadata": {},
   "outputs": [],
   "source": []
  }
 ],
 "metadata": {
  "kernelspec": {
   "display_name": "Python 3 (ipykernel)",
   "language": "python",
   "name": "python3"
  },
  "language_info": {
   "codemirror_mode": {
    "name": "ipython",
    "version": 3
   },
   "file_extension": ".py",
   "mimetype": "text/x-python",
   "name": "python",
   "nbconvert_exporter": "python",
   "pygments_lexer": "ipython3",
   "version": "3.12.7"
  }
 },
 "nbformat": 4,
 "nbformat_minor": 5
}
