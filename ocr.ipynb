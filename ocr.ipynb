{
  "nbformat": 4,
  "nbformat_minor": 0,
  "metadata": {
    "colab": {
      "provenance": []
    },
    "kernelspec": {
      "name": "python3",
      "display_name": "Python 3"
    },
    "language_info": {
      "name": "python"
    }
  },
  "cells": [
    {
      "cell_type": "code",
      "execution_count": 3,
      "metadata": {
        "colab": {
          "base_uri": "https://localhost:8080/"
        },
        "id": "7ekeu3S-8nUx",
        "outputId": "16615176-4d0d-487d-fd7f-af55138f08e1"
      },
      "outputs": [
        {
          "output_type": "stream",
          "name": "stdout",
          "text": [
            "Aadhaar image saved as aadhaar_sample.png\n"
          ]
        }
      ],
      "source": [
        "from faker import Faker\n",
        "from PIL import Image, ImageDraw, ImageFont\n",
        "import random\n",
        "import os\n",
        "\n",
        "# Initialize Faker\n",
        "fake = Faker('en_IN')\n",
        "\n",
        "# Generate Aadhaar-like data\n",
        "def generate_fake_aadhaar_data():\n",
        "    name = fake.name()\n",
        "    gender = random.choice(['MALE', 'FEMALE'])\n",
        "    dob = fake.date_of_birth(minimum_age=18, maximum_age=60).strftime('%d-%m-%Y')\n",
        "    aadhaar_number = \" \".join(str(random.randint(1000, 9999)) for _ in range(3))\n",
        "    address = fake.address().replace(\"\\n\", \", \")\n",
        "    return name, gender, dob, aadhaar_number, address\n",
        "\n",
        "# Create synthetic Aadhaar-like image\n",
        "def create_aadhaar_image(output_path='aadhaar_sample.png'):\n",
        "    name, gender, dob, aadhaar, address = generate_fake_aadhaar_data()\n",
        "\n",
        "    # Create blank white image\n",
        "    img = Image.new('RGB', (600, 300), color='white')\n",
        "    draw = ImageDraw.Draw(img)\n",
        "\n",
        "    # Load a font\n",
        "    try:\n",
        "        font = ImageFont.truetype(\"arial.ttf\", 16)\n",
        "        title_font = ImageFont.truetype(\"arialbd.ttf\", 18)\n",
        "    except IOError:\n",
        "        font = ImageFont.load_default()\n",
        "        title_font = ImageFont.load_default()\n",
        "\n",
        "    # Aadhaar card layout\n",
        "    draw.text((20, 20), \"भारतीय विशिष्ट पहचान प्राधिकरण\", font=title_font, fill='black')\n",
        "    draw.text((20, 50), f\"Name: {name}\", font=font, fill='black')\n",
        "    draw.text((20, 80), f\"DOB: {dob}\", font=font, fill='black')\n",
        "    draw.text((20, 110), f\"Gender: {gender}\", font=font, fill='black')\n",
        "    draw.text((20, 140), f\"Aadhaar No: {aadhaar}\", font=font, fill='black')\n",
        "    draw.text((20, 170), f\"Address: {address}\", font=font, fill='black')\n",
        "\n",
        "    # Save image\n",
        "    img.save(output_path)\n",
        "    print(f\"Aadhaar image saved as {output_path}\")\n",
        "\n",
        "# Run the function\n",
        "create_aadhaar_image()\n"
      ]
    },
    {
      "cell_type": "code",
      "source": [
        "from faker import Faker\n",
        "from PIL import Image, ImageDraw, ImageFont\n",
        "import random\n",
        "import os\n",
        "\n",
        "# Initialize Faker\n",
        "fake = Faker('en_IN')\n",
        "\n",
        "# Create output folder\n",
        "output_folder = \"fake_aadhaar_ids\"\n",
        "os.makedirs(output_folder, exist_ok=True)\n",
        "\n",
        "# Function to generate one Aadhaar-like ID\n",
        "def generate_fake_aadhaar_data():\n",
        "    name = fake.name()\n",
        "    gender = random.choice(['MALE', 'FEMALE'])\n",
        "    dob = fake.date_of_birth(minimum_age=18, maximum_age=60).strftime('%d-%m-%Y')\n",
        "    aadhaar_number = \" \".join(str(random.randint(1000, 9999)) for _ in range(3))\n",
        "    address = fake.address().replace(\"\\n\", \", \")\n",
        "    return name, gender, dob, aadhaar_number, address\n",
        "\n",
        "# Function to create and save image\n",
        "def create_aadhaar_image(index):\n",
        "    name, gender, dob, aadhaar, address = generate_fake_aadhaar_data()\n",
        "\n",
        "    # Create image\n",
        "    img = Image.new('RGB', (600, 300), color='white')\n",
        "    draw = ImageDraw.Draw(img)\n",
        "\n",
        "    # Load font\n",
        "    try:\n",
        "        font = ImageFont.truetype(\"arial.ttf\", 16)\n",
        "        title_font = ImageFont.truetype(\"arialbd.ttf\", 18)\n",
        "    except IOError:\n",
        "        font = ImageFont.load_default()\n",
        "        title_font = ImageFont.load_default()\n",
        "\n",
        "    # Aadhaar layout\n",
        "    draw.text((20, 20), \"भारतीय विशिष्ट पहचान प्राधिकरण\", font=title_font, fill='black')\n",
        "    draw.text((20, 60), f\"Name: {name}\", font=font, fill='black')\n",
        "    draw.text((20, 90), f\"DOB: {dob}\", font=font, fill='black')\n",
        "    draw.text((20, 120), f\"Gender: {gender}\", font=font, fill='black')\n",
        "    draw.text((20, 150), f\"Aadhaar No: {aadhaar}\", font=font, fill='black')\n",
        "    draw.text((20, 180), f\"Address: {address}\", font=font, fill='black')\n",
        "\n",
        "    # Save image\n",
        "    file_path = os.path.join(output_folder, f\"aadhaar_{index+1}.png\")\n",
        "    img.save(file_path)\n",
        "    print(f\"Saved: {file_path}\")\n",
        "\n",
        "# Generate 20 Aadhaar-like IDs\n",
        "for i in range(20):\n",
        "    create_aadhaar_image(i)\n"
      ],
      "metadata": {
        "colab": {
          "base_uri": "https://localhost:8080/"
        },
        "id": "S_3Y7vaK9uEC",
        "outputId": "01bdbfc8-6ab9-49b2-b058-0c27a6fc5c6e"
      },
      "execution_count": 4,
      "outputs": [
        {
          "output_type": "stream",
          "name": "stdout",
          "text": [
            "Saved: fake_aadhaar_ids/aadhaar_1.png\n",
            "Saved: fake_aadhaar_ids/aadhaar_2.png\n",
            "Saved: fake_aadhaar_ids/aadhaar_3.png\n",
            "Saved: fake_aadhaar_ids/aadhaar_4.png\n",
            "Saved: fake_aadhaar_ids/aadhaar_5.png\n",
            "Saved: fake_aadhaar_ids/aadhaar_6.png\n",
            "Saved: fake_aadhaar_ids/aadhaar_7.png\n",
            "Saved: fake_aadhaar_ids/aadhaar_8.png\n",
            "Saved: fake_aadhaar_ids/aadhaar_9.png\n",
            "Saved: fake_aadhaar_ids/aadhaar_10.png\n",
            "Saved: fake_aadhaar_ids/aadhaar_11.png\n",
            "Saved: fake_aadhaar_ids/aadhaar_12.png\n",
            "Saved: fake_aadhaar_ids/aadhaar_13.png\n",
            "Saved: fake_aadhaar_ids/aadhaar_14.png\n",
            "Saved: fake_aadhaar_ids/aadhaar_15.png\n",
            "Saved: fake_aadhaar_ids/aadhaar_16.png\n",
            "Saved: fake_aadhaar_ids/aadhaar_17.png\n",
            "Saved: fake_aadhaar_ids/aadhaar_18.png\n",
            "Saved: fake_aadhaar_ids/aadhaar_19.png\n",
            "Saved: fake_aadhaar_ids/aadhaar_20.png\n"
          ]
        }
      ]
    },
    {
      "cell_type": "code",
      "source": [
        "pip install faker pillow\n"
      ],
      "metadata": {
        "colab": {
          "base_uri": "https://localhost:8080/"
        },
        "id": "TaNyA_An8slH",
        "outputId": "28feb4da-2cfa-43e3-f2f2-2f87fd0be386"
      },
      "execution_count": 2,
      "outputs": [
        {
          "output_type": "stream",
          "name": "stdout",
          "text": [
            "Collecting faker\n",
            "  Downloading faker-37.3.0-py3-none-any.whl.metadata (15 kB)\n",
            "Requirement already satisfied: pillow in /usr/local/lib/python3.11/dist-packages (11.2.1)\n",
            "Requirement already satisfied: tzdata in /usr/local/lib/python3.11/dist-packages (from faker) (2025.2)\n",
            "Downloading faker-37.3.0-py3-none-any.whl (1.9 MB)\n",
            "\u001b[?25l   \u001b[90m━━━━━━━━━━━━━━━━━━━━━━━━━━━━━━━━━━━━━━━━\u001b[0m \u001b[32m0.0/1.9 MB\u001b[0m \u001b[31m?\u001b[0m eta \u001b[36m-:--:--\u001b[0m\r\u001b[2K   \u001b[91m━━━━━━\u001b[0m\u001b[91m╸\u001b[0m\u001b[90m━━━━━━━━━━━━━━━━━━━━━━━━━━━━━━━━━\u001b[0m \u001b[32m0.3/1.9 MB\u001b[0m \u001b[31m11.4 MB/s\u001b[0m eta \u001b[36m0:00:01\u001b[0m\r\u001b[2K   \u001b[91m━━━━━━━━━━━━━━━━━━━━━━━━━━━━━━━━━━━━━━━\u001b[0m\u001b[91m╸\u001b[0m \u001b[32m1.9/1.9 MB\u001b[0m \u001b[31m32.6 MB/s\u001b[0m eta \u001b[36m0:00:01\u001b[0m\r\u001b[2K   \u001b[90m━━━━━━━━━━━━━━━━━━━━━━━━━━━━━━━━━━━━━━━━\u001b[0m \u001b[32m1.9/1.9 MB\u001b[0m \u001b[31m23.1 MB/s\u001b[0m eta \u001b[36m0:00:00\u001b[0m\n",
            "\u001b[?25hInstalling collected packages: faker\n",
            "Successfully installed faker-37.3.0\n"
          ]
        }
      ]
    },
    {
      "cell_type": "code",
      "source": [
        "import pandas as pd\n",
        "from PIL import Image, ImageDraw, ImageFont\n",
        "import random\n",
        "import os\n",
        "\n",
        "# Load your dataset\n",
        "df = pd.read_csv('/content/synthetic_aadhaar_financial_data_with_fraud.csv')  # change path if needed\n",
        "\n",
        "# Extract names column and remove duplicates or NaNs\n",
        "names_list = df['Name'].dropna().unique().tolist()\n",
        "\n",
        "# Randomly pick 20 names\n",
        "selected_names = random.sample(names_list, 20)\n",
        "\n",
        "# Create output folder\n",
        "output_folder = \"aadhaar_images_from_dataset\"\n",
        "os.makedirs(output_folder, exist_ok=True)\n",
        "\n",
        "# Function to generate other Aadhaar data (DOB, gender, Aadhaar number)\n",
        "def generate_aadhaar_data_for_name(name):\n",
        "    # For simplicity, generate random DOB, gender and aadhaar number\n",
        "    from faker import Faker\n",
        "    fake = Faker('en_IN')\n",
        "\n",
        "    dob = fake.date_of_birth(minimum_age=18, maximum_age=60).strftime('%d-%m-%Y')\n",
        "    gender = random.choice(['MALE', 'FEMALE'])\n",
        "    aadhaar_number = \" \".join(str(random.randint(1000, 9999)) for _ in range(3))\n",
        "\n",
        "    return dob, gender, aadhaar_number\n",
        "\n",
        "# Function to create Aadhaar image\n",
        "def create_aadhaar_image(index, name):\n",
        "    dob, gender, aadhaar = generate_aadhaar_data_for_name(name)\n",
        "    address = \"N/A\"  # Or generate from faker if needed\n",
        "\n",
        "    img = Image.new('RGB', (600, 300), color='white')\n",
        "    draw = ImageDraw.Draw(img)\n",
        "\n",
        "    # Load fonts\n",
        "    try:\n",
        "        font = ImageFont.truetype(\"arial.ttf\", 16)\n",
        "        title_font = ImageFont.truetype(\"arialbd.ttf\", 18)\n",
        "    except IOError:\n",
        "        font = ImageFont.load_default()\n",
        "        title_font = ImageFont.load_default()\n",
        "\n",
        "    draw.text((20, 20), \"भारतीय विशिष्ट पहचान प्राधिकरण\", font=title_font, fill='black')\n",
        "    draw.text((20, 60), f\"Name: {name}\", font=font, fill='black')\n",
        "    draw.text((20, 90), f\"DOB: {dob}\", font=font, fill='black')\n",
        "    draw.text((20, 120), f\"Gender: {gender}\", font=font, fill='black')\n",
        "    draw.text((20, 150), f\"Aadhaar No: {aadhaar}\", font=font, fill='black')\n",
        "    draw.text((20, 180), f\"Address: {address}\", font=font, fill='black')\n",
        "\n",
        "    # Save image\n",
        "    file_path = os.path.join(output_folder, f\"aadhaar_{index+1}.png\")\n",
        "    img.save(file_path)\n",
        "    print(f\"Saved: {file_path}\")\n",
        "\n",
        "# Generate images\n",
        "for i, name in enumerate(selected_names):\n",
        "    create_aadhaar_image(i, name)\n"
      ],
      "metadata": {
        "colab": {
          "base_uri": "https://localhost:8080/"
        },
        "id": "drnW3Sj4_Hvh",
        "outputId": "52d964cb-7fd4-46b5-d007-74938ceebb3c"
      },
      "execution_count": 5,
      "outputs": [
        {
          "output_type": "stream",
          "name": "stdout",
          "text": [
            "Saved: aadhaar_images_from_dataset/aadhaar_1.png\n",
            "Saved: aadhaar_images_from_dataset/aadhaar_2.png\n",
            "Saved: aadhaar_images_from_dataset/aadhaar_3.png\n",
            "Saved: aadhaar_images_from_dataset/aadhaar_4.png\n",
            "Saved: aadhaar_images_from_dataset/aadhaar_5.png\n",
            "Saved: aadhaar_images_from_dataset/aadhaar_6.png\n",
            "Saved: aadhaar_images_from_dataset/aadhaar_7.png\n",
            "Saved: aadhaar_images_from_dataset/aadhaar_8.png\n",
            "Saved: aadhaar_images_from_dataset/aadhaar_9.png\n",
            "Saved: aadhaar_images_from_dataset/aadhaar_10.png\n",
            "Saved: aadhaar_images_from_dataset/aadhaar_11.png\n",
            "Saved: aadhaar_images_from_dataset/aadhaar_12.png\n",
            "Saved: aadhaar_images_from_dataset/aadhaar_13.png\n",
            "Saved: aadhaar_images_from_dataset/aadhaar_14.png\n",
            "Saved: aadhaar_images_from_dataset/aadhaar_15.png\n",
            "Saved: aadhaar_images_from_dataset/aadhaar_16.png\n",
            "Saved: aadhaar_images_from_dataset/aadhaar_17.png\n",
            "Saved: aadhaar_images_from_dataset/aadhaar_18.png\n",
            "Saved: aadhaar_images_from_dataset/aadhaar_19.png\n",
            "Saved: aadhaar_images_from_dataset/aadhaar_20.png\n"
          ]
        }
      ]
    },
    {
      "cell_type": "code",
      "source": [
        "pip install pytesseract pillow opencv-python\n"
      ],
      "metadata": {
        "colab": {
          "base_uri": "https://localhost:8080/"
        },
        "id": "6Uzz-Ex6Bc_7",
        "outputId": "d3ee5995-fbce-4702-9763-c25e6af4d4e2"
      },
      "execution_count": 6,
      "outputs": [
        {
          "output_type": "stream",
          "name": "stdout",
          "text": [
            "Collecting pytesseract\n",
            "  Downloading pytesseract-0.3.13-py3-none-any.whl.metadata (11 kB)\n",
            "Requirement already satisfied: pillow in /usr/local/lib/python3.11/dist-packages (11.2.1)\n",
            "Requirement already satisfied: opencv-python in /usr/local/lib/python3.11/dist-packages (4.11.0.86)\n",
            "Requirement already satisfied: packaging>=21.3 in /usr/local/lib/python3.11/dist-packages (from pytesseract) (24.2)\n",
            "Requirement already satisfied: numpy>=1.21.2 in /usr/local/lib/python3.11/dist-packages (from opencv-python) (2.0.2)\n",
            "Downloading pytesseract-0.3.13-py3-none-any.whl (14 kB)\n",
            "Installing collected packages: pytesseract\n",
            "Successfully installed pytesseract-0.3.13\n"
          ]
        }
      ]
    },
    {
      "cell_type": "code",
      "source": [
        "import pytesseract\n",
        "import cv2\n",
        "import os\n",
        "import re\n",
        "\n",
        "# Optional: Set tesseract path (only needed for Windows)\n",
        "# pytesseract.pytesseract.tesseract_cmd = r'C:\\Program Files\\Tesseract-OCR\\tesseract.exe'\n",
        "\n",
        "# Folder containing generated Aadhaar images\n",
        "image_folder = \"/content/aadhaar_images_from_dataset\"\n",
        "\n",
        "# Function to extract details using OCR\n",
        "def extract_info_from_image(image_path):\n",
        "    # Load image\n",
        "    image = cv2.imread(image_path)\n",
        "\n",
        "    # Convert to grayscale\n",
        "    gray = cv2.cvtColor(image, cv2.COLOR_BGR2GRAY)\n",
        "\n",
        "    # OCR\n",
        "    raw_text = pytesseract.image_to_string(gray)\n",
        "\n",
        "    # Extract details using regex\n",
        "    name = re.search(r'Name:\\s*(.*)', raw_text)\n",
        "\n",
        "    aadhaar = re.search(r'(?:Aadhaar\\s*No[:\\s]*)?(\\d{4}[\\s\\-]?\\d{4}[\\s\\-]?\\d{4})', raw_text, re.IGNORECASE)\n",
        "    aadhaar_number = aadhaar.group(1).strip() if aadhaar else None\n",
        "    dob = re.search(r'(?:DOB|D\\.O\\.B\\.?)[:\\s]*([\\d]{2}[-/][\\d]{2}[-/][\\d]{4})', raw_text, re.IGNORECASE)\n",
        "    gender = re.search(r'(?:Gender)[:\\s]*(Male|Female|MALE|FEMALE)', raw_text, re.IGNORECASE)\n",
        "    if not gender:\n",
        "      if re.search(r'\\b(MALE|Male)\\b', raw_text):\n",
        "        gender = re.search(r'\\b(MALE|Male)\\b', raw_text)\n",
        "      elif re.search(r'\\b(FEMALE|Female)\\b', raw_text):\n",
        "        gender = re.search(r'\\b(FEMALE|Female)\\b', raw_text)\n",
        "\n",
        "\n",
        "\n",
        "    # Return cleaned data\n",
        "    return {\n",
        "        \"Name\": name.group(1).strip() if name else None,\n",
        "        \"DOB\": dob.group(1).strip() if dob else None,\n",
        "        \"Gender\": gender.group(1).strip() if gender else None,\n",
        "        \"Aadhaar No\": aadhaar.group(1).strip() if aadhaar else None,\n",
        "    }\n",
        "\n",
        "# Iterate over all images\n",
        "all_results = []\n",
        "for img_file in os.listdir(image_folder):\n",
        "    if img_file.endswith(\".png\"):\n",
        "        full_path = os.path.join(image_folder, img_file)\n",
        "        data = extract_info_from_image(full_path)\n",
        "        print(f\"\\nDetails from {img_file}:\")\n",
        "        print(data)\n",
        "        all_results.append(data)\n",
        "\n",
        "df = pd.DataFrame(all_results)\n",
        "csv_output_path = \"aadhaar_ocr_results.csv\"\n",
        "df.to_csv(csv_output_path, index=False)\n",
        "print(f\"\\n✅ OCR extraction complete. Results saved to: {csv_output_path}\")\n",
        "\n"
      ],
      "metadata": {
        "colab": {
          "base_uri": "https://localhost:8080/"
        },
        "id": "JA4ukN1_BeU9",
        "outputId": "0c5149a5-d043-4d57-ca3e-1f37b975db52"
      },
      "execution_count": 19,
      "outputs": [
        {
          "output_type": "stream",
          "name": "stdout",
          "text": [
            "\n",
            "Details from aadhaar_14.png:\n",
            "{'Name': 'Talmur Ranganathan', 'DOB': None, 'Gender': 'FEMALE', 'Aadhaar No': '283231709142'}\n",
            "\n",
            "Details from aadhaar_15.png:\n",
            "{'Name': 'Aarna Gera', 'DOB': None, 'Gender': 'MALE', 'Aadhaar No': '3577 2349 8979'}\n",
            "\n",
            "Details from aadhaar_11.png:\n",
            "{'Name': 'Sumer Luthra', 'DOB': '09-10-2003', 'Gender': 'MALE', 'Aadhaar No': '4978 5926 2384'}\n",
            "\n",
            "Details from aadhaar_16.png:\n",
            "{'Name': 'Ssanvi Singhal', 'DOB': None, 'Gender': 'MALE', 'Aadhaar No': '613081742154'}\n",
            "\n",
            "Details from aadhaar_4.png:\n",
            "{'Name': 'Azad Dora', 'DOB': None, 'Gender': 'MALE', 'Aadhaar No': '17007441 4062'}\n",
            "\n",
            "Details from aadhaar_17.png:\n",
            "{'Name': 'Pryansh Devan', 'DOB': None, 'Gender': 'FEMALE', 'Aadhaar No': '8621 49756411'}\n",
            "\n",
            "Details from aadhaar_2.png:\n",
            "{'Name': 'Hiran Kamdar', 'DOB': None, 'Gender': 'FEMALE', 'Aadhaar No': '3304 4226 1525'}\n",
            "\n",
            "Details from aadhaar_9.png:\n",
            "{'Name': 'Ahana Halder', 'DOB': None, 'Gender': 'FEMALE', 'Aadhaar No': '6806 12025044'}\n",
            "\n",
            "Details from aadhaar_10.png:\n",
            "{'Name': 'Dhruv Venkatesh', 'DOB': None, 'Gender': 'FEMALE', 'Aadhaar No': '16628592 2412'}\n",
            "\n",
            "Details from aadhaar_8.png:\n",
            "{'Name': 'DivtKale', 'DOB': '05-10-1995', 'Gender': 'FEMALE', 'Aadhaar No': '3405 14917354'}\n",
            "\n",
            "Details from aadhaar_6.png:\n",
            "{'Name': 'Mehul Poy', 'DOB': None, 'Gender': 'MALE', 'Aadhaar No': '2226 9296 8268'}\n",
            "\n",
            "Details from aadhaar_18.png:\n",
            "{'Name': 'Diya Wal', 'DOB': None, 'Gender': 'MALE', 'Aadhaar No': '2131 58299167'}\n",
            "\n",
            "Details from aadhaar_5.png:\n",
            "{'Name': 'Ryan Kapur', 'DOB': None, 'Gender': 'MALE', 'Aadhaar No': '9355 2015 3485'}\n",
            "\n",
            "Details from aadhaar_7.png:\n",
            "{'Name': 'Madhup Sarna', 'DOB': None, 'Gender': 'MALE', 'Aadhaar No': '2458 7002 7087'}\n",
            "\n",
            "Details from aadhaar_3.png:\n",
            "{'Name': 'Shaan Sem', 'DOB': None, 'Gender': 'FEMALE', 'Aadhaar No': '18725885 8002'}\n",
            "\n",
            "Details from aadhaar_19.png:\n",
            "{'Name': 'Sara Was', 'DOB': None, 'Gender': 'FEMALE', 'Aadhaar No': '9825 72043217'}\n",
            "\n",
            "Details from aadhaar_1.png:\n",
            "{'Name': 'Renee Srinivasan', 'DOB': None, 'Gender': 'MALE', 'Aadhaar No': '306113206724'}\n",
            "\n",
            "Details from aadhaar_20.png:\n",
            "{'Name': 'Dhanush Gala', 'DOB': None, 'Gender': 'MALE', 'Aadhaar No': '70525240 1449'}\n",
            "\n",
            "Details from aadhaar_12.png:\n",
            "{'Name': 'Samiha Dewan', 'DOB': '06-10-1971', 'Gender': 'FEMALE', 'Aadhaar No': '5850 33543868'}\n",
            "\n",
            "Details from aadhaar_13.png:\n",
            "{'Name': 'Anay Ra', 'DOB': None, 'Gender': 'FEMALE', 'Aadhaar No': '8818 61836718'}\n",
            "\n",
            "✅ OCR extraction complete. Results saved to: aadhaar_ocr_results.csv\n"
          ]
        }
      ]
    }
  ]
}